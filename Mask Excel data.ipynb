{
 "cells": [
  {
   "cell_type": "code",
   "execution_count": 3,
   "id": "c52c7223",
   "metadata": {},
   "outputs": [],
   "source": [
    "import pandas as pd\n",
    "import numpy as np\n",
    "import spacy"
   ]
  },
  {
   "cell_type": "code",
   "execution_count": 16,
   "id": "527d9a1e",
   "metadata": {},
   "outputs": [
    {
     "name": "stderr",
     "output_type": "stream",
     "text": [
      "C:\\Users\\Abhijit.Ghosh1\\AppData\\Local\\anaconda3\\lib\\site-packages\\openpyxl\\styles\\stylesheet.py:226: UserWarning: Workbook contains no default style, apply openpyxl's default\n",
      "  warn(\"Workbook contains no default style, apply openpyxl's default\")\n"
     ]
    }
   ],
   "source": [
    "import spacy\n",
    "import pandas as pd\n",
    "\n",
    "# Load the spaCy model for named entity recognition\n",
    "nlp = spacy.load(\"en_core_web_sm\")\n",
    "\n",
    "# Function to mask proper nouns and numerical values in a text\n",
    "def mask_entities_old(text):\n",
    "    doc = nlp(text)\n",
    "    masked_text = []\n",
    "    for token in doc:\n",
    "        if token.ent_type_ != \"\":\n",
    "            masked_text.append(\"MASKED_\" + token.ent_type_)\n",
    "        elif token.is_digit:\n",
    "            masked_text.append(\"MASKED_NUMBER\")\n",
    "        else:\n",
    "            masked_text.append(token.text)\n",
    "    return \" \".join(masked_text)\n",
    "\n",
    "def mask_entities(text):\n",
    "    if not pd.isna(text):  # Check if the cell is not blank\n",
    "        text = re.sub(r'[^a-zA-Z0-9\\s.]', '', text)\n",
    "        doc = nlp(text)\n",
    "        masked_text = []\n",
    "        for token in doc:\n",
    "            if token.ent_type_ != \"\":\n",
    "                masked_text.append(\"MASKED_\" + token.ent_type_)\n",
    "            elif token.is_digit:\n",
    "                masked_text.append(\"MASKED_NUMBER\")\n",
    "            else:\n",
    "                masked_text.append(token.text)\n",
    "        return \" \".join(masked_text)\n",
    "#    return text  # Return the original text if it's blank\n",
    "\n",
    "\n",
    "#spaCy supports the following entity types:\n",
    "#PERSON, NORP (nationalities, religious and political groups), \n",
    "#FAC (buildings, airports etc.), ORG (organizations), \n",
    "#GPE (countries, cities etc.), LOC (mountain ranges, water bodies etc.), \n",
    "#PRODUCT (products), EVENT (event names), WORK_OF_ART (books, song titles), \n",
    "#LAW (legal document titles), LANGUAGE (named languages), DATE, TIME, PERCENT, MONEY, QUANTITY, ORDINAL and CARDINAL.\n",
    "\n",
    "# Read the Excel file\n",
    "excel_file = pd.read_excel('Risks.xlsx', engine='openpyxl')\n",
    "\n",
    "# Process the text in the specified column (e.g., 'text_column_name')\n",
    "excel_file['Description'] = excel_file['Description'].apply(mask_entities)\n",
    "excel_file['Title'] = excel_file['Title'].apply(mask_entities)\n",
    "excel_file['ProjectName'] = excel_file['ProjectName'].apply(mask_entities)\n",
    "excel_file['ResponsePlan'] = excel_file['ResponsePlan'].apply(mask_entities)\n",
    "excel_file['ContingencyPlan'] = excel_file['ContingencyPlan'].apply(mask_entities)\n",
    "# Save the processed data to a new CSV file\n",
    "excel_file.to_csv('Risks.csv', index=False)"
   ]
  },
  {
   "cell_type": "code",
   "execution_count": 18,
   "id": "e40c1ca1",
   "metadata": {},
   "outputs": [],
   "source": [
    "import spacy\n",
    "import pandas as pd\n",
    "import re\n",
    "# Load the spaCy model for named entity recognition\n",
    "nlp = spacy.load(\"en_core_web_sm\")\n",
    "\n",
    "# Function to mask proper nouns and numerical values in a text\n",
    "def mask_entities(text):\n",
    "    if not pd.isna(text):  # Check if the cell is not blank\n",
    "        text = re.sub(r'[^a-zA-Z0-9\\s.]', '', text)\n",
    "        doc = nlp(text)\n",
    "        masked_text = []\n",
    "        for token in doc:\n",
    "            if token.ent_type_ != \"\":\n",
    "                masked_text.append(\"MASKED_\" + token.ent_type_)\n",
    "            elif token.is_digit:\n",
    "                masked_text.append(\"MASKED_NUMBER\")\n",
    "            else:\n",
    "                masked_text.append(token.text)\n",
    "        return \" \".join(masked_text)\n",
    "    return text  # Return the original text if it's blank\n",
    "\n",
    "# Read the Excel file\n",
    "excel_file = pd.read_excel('Risk.xlsx', engine='openpyxl')\n",
    "\n",
    "# Process the text in the specified columns\n",
    "columns_to_mask = ['Description', 'Title', 'ProjectName', 'ResponsePlan', 'ContingencyPlan']\n",
    "#columns_to_mask = ['Description', 'Title', 'Project Name', 'Action Plan']\n",
    "\n",
    "\n",
    "for column in columns_to_mask:\n",
    "    excel_file[column] = excel_file[column].apply(mask_entities)\n",
    "\n",
    "# Save the processed data to a new CSV file\n",
    "excel_file.to_csv('Risk.csv', index=False)"
   ]
  },
  {
   "cell_type": "code",
   "execution_count": null,
   "id": "c6cb6cce",
   "metadata": {},
   "outputs": [],
   "source": []
  }
 ],
 "metadata": {
  "kernelspec": {
   "display_name": "Python 3 (ipykernel)",
   "language": "python",
   "name": "python3"
  },
  "language_info": {
   "codemirror_mode": {
    "name": "ipython",
    "version": 3
   },
   "file_extension": ".py",
   "mimetype": "text/x-python",
   "name": "python",
   "nbconvert_exporter": "python",
   "pygments_lexer": "ipython3",
   "version": "3.10.9"
  }
 },
 "nbformat": 4,
 "nbformat_minor": 5
}
