{
 "cells": [
  {
   "cell_type": "code",
   "execution_count": 6,
   "id": "f9413d62",
   "metadata": {},
   "outputs": [
    {
     "name": "stdout",
     "output_type": "stream",
     "text": [
      "Collecting sentencepiece\n",
      "  Downloading sentencepiece-0.1.99-cp310-cp310-win_amd64.whl (977 kB)\n",
      "     -------------------------------------- 977.5/977.5 kB 1.4 MB/s eta 0:00:00\n",
      "Installing collected packages: sentencepiece\n",
      "Successfully installed sentencepiece-0.1.99\n",
      "Note: you may need to restart the kernel to use updated packages.\n"
     ]
    }
   ],
   "source": [
    "pip install sentencepiece"
   ]
  },
  {
   "cell_type": "code",
   "execution_count": 1,
   "id": "8b7ec2c5",
   "metadata": {},
   "outputs": [
    {
     "name": "stdout",
     "output_type": "stream",
     "text": [
      "​No documentation is available and the business contacts are mostly don't have answers to our questions​ ​Delay\n",
      "in API enhancements by Utelogy to fix U-manage alerts not converted to service now ticktets by Moogsoft could delay VC global roll out. ​Due to recent EY strategy, the number of active projects is increasing dramatically. The availability of Project resources but also suppliers can be at risk because already invested in existing projects. ​​Lack of electronic components is causing delays in HW production and delivery. This is a risk to take into consideration during planning. ​Due to recent EY strategy, the number of active projects is increasing dramatically. The availability of Project resources but also suppliers can be at risk because already invested in existing projects. ​Lack of electronic components is causing delays in HW production and delivery. This is a risk to take into consideration during planning. Since there was a delay in the Quote and PO getting approved, there will be a delay in the delivery of the devices and installation, they could be delivered by End of March or April (tentatively). This will impact the location as this is a TAX season and users will have issues booking the rooms. Catherine and Viviane checked with Nancy and confirmed that they will be okay to continue if this can be done in 1st week of April, if not it has to be moved to May.​ ​Delay from OBS on providing/sharing the contract and quotation for the inventory shared​ ​Dependency on third party vendor\n",
      "for integration testing and can result in redesign, delays and also impact to\n",
      "purchase service\n",
      "budget​ ​There is a delay from Vendor to perform the installation activity. this will case delay in Project completion by end of June FY. port installation, we have to perform the cutover activity and start hypercare which will require 2 weeks from Go Live.update from Vendor:We are schedule for June 21st to start (we understand your year end is June 30th and do not foresee any reason to not be complete well before that)​ ​There have been delays in Meraki turning around the solutions which has been an issue in the past. There is a risk of Cisco not being able to turn around this resolution which would further result in frustration for Support Teams who need to reboot the AP's ​Delay in Infosec approval may delay\n",
      "the Guest 2.0 Pilot completion ​Moving the Azure POC setup to PRoduction is taking a lot of time ​If there are offices without local OSTS resource, it will impact the migration of phones to SIP gateway within the project timelines.​ ​If there is a challenge in the availability of​ OSTS resource to perform migration & testing activities across 50+ countries within the EOL timelines, it will impact the migration of phones to SIP before EOL timeline  There\n",
      "could be possible delay in Going live with Champlain -403 meeting room - Quebec, as\n",
      "there is no microphone, we might need extension cable for the camera is not\n",
      "long enough to connect the VC. ​Vendor not onboarded with Spain GDS. Intiated BRIDGE process which would delay the deployments by 2 months. Current Go-Live tentatively for end of May 2023​ ​Pending delivery date for Condeco equipment. Sending a PO was dependent on a month's period without the mercury application - the only option was to send a PO manually which required additional approvals ​Expected to complete the approval on the legal process and SSOW by end of Feb-2023 inorder to place the purchase order for the required printers followed by installation. ​Not being ready again by end of June and running into support issues> ET and/or Procurement resources busy with other vendors/contracts (ie. Cisco contract has no priority)> Underestimation of the complexity of the renewal and/or asset management Budget allocated not aligned with the estimated ​Impact\n",
      "on delivery due to resources moving out of the project​ ​Schedule\n",
      "Compression of VC deployment Americas and APAC ​Missing resources to work on the project.  ​Long delivery timelines from the vendor. ​ ​Assessing the migrations of phones on a weekly basis and ensuring the risk of migrations not completed by June 30th. ​Long delivery timelines from the vendor.  ​​Missing resources to work on the project.  ​As this project started on SEP-22 and suspended till Feb-2023, the budget needs to be revisited. I can see actuals hit this account till Feb-2023 though it was suspended. with my forecast, I need additional budget asap. So that we need to raise a PCR. Migration was delayed due to sign out of phones caused due to CA policy. Additional time was required to investigate and fix the issue due to which the overall schedule of the project is impacted and would need additional timeline to complete the migration process.Due to the revision in schedule, we would needs additional budget to accomodate project resources to work on the migration till the revised timeline. ​If new HW delivery is delayed, it will cause pushing back the Day-1, and it will increase the possibility of EOL hardware faulty/breakage and NW connectivity issue. ​Project Everest impacting project deliverables and resulted in scope change in Q4.  P​roject delivery schedule will be in high risk  ​resources may not be available for implementation ​The\n",
      "project financials are not displaying actuals (Plan, Forecast and actuals)\n",
      "on all category. they need to be re-classified and actual data to reflect actual\n",
      "spent/cost.​ ​Microsoft Exchange sync is unstable during booking rooms and ​receving confirmation. MMS team are working closely with\n",
      "the Microsoft team to address the sync issue​ ​Delayed delivery of IT equipment may impact the delivery date of the project. ​The delay in design and decision to move to EY Fabric/GDC impacts the schedule of global roll out for MTRs and VCs.Decision taken by Grace to go with Servers in the 3 GDC locations to allow flexibility.​ ​If there is a delay in the migration of phones\n",
      "to SIP gateway by 31st December 2022 there is a risk that license\n",
      "for existing RPRM license will expire as the existing license was renewed for only\n",
      "6 months till 31st December due to the anticipated Lens migration. ​If the phones are not migrated to Lens by week\n",
      "starting 21st October 2022  it\n",
      "will delay the migration of phones to SIP gateway.​ ​​Some delays may occure due to shortages on global IT markets - AV equipment - modern meeting hardware - network devices​ D​elay in schedule if we continue with the proposed solution Automation of token generation for calling topic creation cannot be done within the project team due to limited skillset. We are dependent on an external team to fulfil this functionality. Although this is not a show stopper we would like to have this functionality built in to the application ​Delay in product development due to insufficient\n",
      "DevOps skill and/ or high attrition  ​Avoid – Showcase cost saving and\n",
      "long term benefits for the firm, and have a top down alignment​ If PIA completion is delayed due to the backlog within the internal legal team it will have an impact on the migration activities and timelines for this project. Internal legal have reported that there are 39 PIAs  prior to the one submitted for this project. Legal team expects an ETA of approximately 7 - 8 weeks to complete the review & approval process.  Delay in completeion of PIA completion is impacting on securing Infosec approval. ​Issues reported in Q2 QA process. There will be high chance of impacting project delivery if we are not able deploy code by 21-Nov. ​U-Enterprise & U-Manage pen\n",
      "test vulnerability findings might impact service and affect value if exploited. ​Microsoft will end  support \n",
      "and security updates for ADAL  (\n",
      "MMS application uses Azure AD authentication Library – ADAL) ​ ​New WiFi vendors’ solutions, being evaluated, if not suitable/up to the mark for EY requirements ​If we don’t have the LLDP configurations\n",
      "completed and data available for US & Canada available by 10th\n",
      "October 2022 the migration of phones for US & Canada will be delayed.  ​Delay in decision for Hardware purchase may result in non utilisation of budget ​​No clear global MM Support Model (Flow diagram) reflecting current state. Various models were defined in the past but status and ownership unknown. In addition product were launching support elements (KB, Support flow, etc.) individually.The risk is with the missing awareness for a holistic Modern Meetings consumer experience we might end up in lengthy conversations on getting the global MM support model, country model and the future state model including AVSD defined.​​ ​Procurement Readiness delay due to long processing time - may adversely affect Program Schedule S​harepoint Portal issue ​​The project team is not able to perform due to lockdown​\n"
     ]
    }
   ],
   "source": [
    "import pandas as pd\n",
    "\n",
    "# Specify the file path and sheet name\n",
    "file_path = 'Risks.xlsx'\n",
    "sheet_name = 'Risks'\n",
    "\n",
    "# Specify the column names to load into the DataFrame\n",
    "column_names = ['Description']\n",
    "\n",
    "# Load the Excel file into a DataFrame\n",
    "df = pd.read_excel(file_path, sheet_name=sheet_name, usecols=column_names)\n",
    "\n",
    "# Print the DataFrame\n",
    "#print(df)\n",
    "\n",
    "new_text = ' '.join(df['Description'])\n",
    "print(new_text)"
   ]
  },
  {
   "cell_type": "code",
   "execution_count": 38,
   "id": "e304c872",
   "metadata": {},
   "outputs": [
    {
     "name": "stderr",
     "output_type": "stream",
     "text": [
      "No model was supplied, defaulted to sshleifer/distilbart-cnn-12-6 and revision a4f8f3e (https://huggingface.co/sshleifer/distilbart-cnn-12-6).\n",
      "Using a pipeline without specifying a model name and revision in production is not recommended.\n"
     ]
    },
    {
     "name": "stdout",
     "output_type": "stream",
     "text": [
      "Total chunks of text are:  2\n",
      "Summarizing the text. Please wait .......\n",
      "Summarizing Chunk NO:  1\n",
      "Summarizing Chunk NO:  2\n",
      "Summarizing the text completed.....\n"
     ]
    }
   ],
   "source": [
    "from transformers import pipeline\n",
    "summarizer = pipeline(\"summarization\")\n",
    "#summarizer = pipeline(\"feature-extraction\")\n",
    "new_text1 = \"\"\"\n",
    "Delay in obtaining the right information from application team. Multiple follow ups are required to receive responses.\n",
    "\"\"\"\n",
    "max_chunk = 500\n",
    "new_text = new_text.replace('.', '.')\n",
    "new_text = new_text.replace('?', '?')\n",
    "new_text = new_text.replace('!', '!')\n",
    "\n",
    "sentences = new_text.split('.')\n",
    "current_chunk = 0 \n",
    "chunks = []\n",
    "for sentence in sentences:\n",
    " if len(chunks) == current_chunk + 1: \n",
    "  if len(chunks[current_chunk]) + len(sentence.split(' ')) <= max_chunk:\n",
    "      chunks[current_chunk].extend(sentence.split(' '))\n",
    "  else:\n",
    "    current_chunk += 1\n",
    "    chunks.append(sentence.split(' '))\n",
    " else:\n",
    " # print(current_chunk)\n",
    "   chunks.append(sentence.split(' '))\n",
    "\n",
    "for chunk_id in range(len(chunks)):\n",
    " chunks[chunk_id] = ' '.join(chunks[chunk_id])\n",
    "print(\"Total chunks of text are: \", len(chunks))\n",
    "\n",
    "print(\"Summarizing the text. Please wait .......\")\n",
    "all_summaries = []\n",
    "count = 0\n",
    "for chunk in chunks:\n",
    " print(\"Summarizing Chunk NO: \", count + 1)\n",
    " res = summarizer(chunk, max_length=300, min_length=100, do_sample=False)\n",
    " all_summaries +=res\n",
    " count +=1\n",
    "print(\"Summarizing the text completed.....\")\n",
    "#summary=summarizer(ARTICLE, max_length=200, min_length=100, do_sample=False)\n"
   ]
  },
  {
   "cell_type": "code",
   "execution_count": 39,
   "id": "db234aae",
   "metadata": {},
   "outputs": [
    {
     "name": "stdout",
     "output_type": "stream",
     "text": [
      " The known error- due to the Mercury tool rate discrepancies  We also have a workaround in place with Finance team . The rate card difference is already escalated to supplier mgmt   and mercury teams . Proposed Mobile App store location of ‘TEAMS’ was rejected by Management after the recommendations made by EUTX user experience, hence will not pursue the Build work . EYQA Connection stability led to unprecedented delay in Successors . Purchase of Citrix VPX load balancer licenses (Renewal on 25th March) as Citrix didn't approve split of License .  Turkey physical server procurement delay would have impact on the overall project target completion date of 31st Dec 2022 . Approach to migrate backups or upgrade Connected Backup Infrastructure for HK is still undecided . The old engagement code provided was incorrect . EAC = 4%    EAC is at 6%   No more varinace   IYQA Connection stability led to unprecedented delay in Successors   Purchase of Citrix VPX load balancer licenses (Renewal on 25th March) as Citrix didn't approve split of License .\n"
     ]
    }
   ],
   "source": [
    "joined_summary = ' '.join([summ['summary_text'] for summ in all_summaries]) \n",
    "print(joined_summary)"
   ]
  },
  {
   "cell_type": "code",
   "execution_count": 31,
   "id": "ac1656fd",
   "metadata": {},
   "outputs": [
    {
     "name": "stdout",
     "output_type": "stream",
     "text": [
      "Text output successfully written to output.txt\n"
     ]
    }
   ],
   "source": [
    "# Specify the output file path\n",
    "output_file = 'output.txt'\n",
    "\n",
    "# Write the text output to a text file\n",
    "with open(output_file, 'w', encoding='utf-8') as file:\n",
    "    file.write(joined_summary)\n",
    "\n",
    "print(\"Text output successfully written to\", output_file)"
   ]
  },
  {
   "cell_type": "code",
   "execution_count": 3,
   "id": "be53a82a",
   "metadata": {},
   "outputs": [
    {
     "name": "stdout",
     "output_type": "stream",
     "text": [
      "some applications may need to run a security review before migrating to PCoD. microland might not be helpful in assisting with the migration as they are losing business as there is no incentive. legal restrictions on Microsoft cloud cache of 30days for specific On Prem countries like Taiwan, Hongkong and Poland.\n"
     ]
    }
   ],
   "source": [
    "from transformers import T5Tokenizer, T5ForConditionalGeneration\n",
    "\n",
    "# Example project risk data\n",
    "project_risks = [\n",
    "\"\"\"\n",
    "Delay in obtaining the right information from application team. Multiple follow ups are required to receive responses.\n",
    "Some of the applications may need to run a security review before migrating to PCoD which will cause delays.\n",
    "Incorporate NextThink campaign to Automated tool repair.\n",
    "e.\n",
    "\"\"\"\n",
    "]\n",
    "\n",
    "# Load the T5 model and tokenizer\n",
    "tokenizer = T5Tokenizer.from_pretrained('t5-base')\n",
    "model = T5ForConditionalGeneration.from_pretrained('t5-base')\n",
    "\n",
    "# Encode the project risks\n",
    "inputs = tokenizer.encode(\"summarize: \" + ' '.join(project_risks), return_tensors='pt', max_length=512, truncation=True)\n",
    "\n",
    "# Generate the summaries\n",
    "outputs = model.generate(inputs, max_length=250, num_beams=8, early_stopping=True)\n",
    "\n",
    "# Decode and print the summaries\n",
    "summaries = tokenizer.decode(outputs[0], skip_special_tokens=True)\n",
    "print(summaries)"
   ]
  },
  {
   "cell_type": "code",
   "execution_count": 54,
   "id": "8ab37560",
   "metadata": {},
   "outputs": [
    {
     "name": "stderr",
     "output_type": "stream",
     "text": [
      "No model was supplied, defaulted to distilbert-base-cased-distilled-squad and revision 626af31 (https://huggingface.co/distilbert-base-cased-distilled-squad).\n",
      "Using a pipeline without specifying a model name and revision in production is not recommended.\n"
     ]
    },
    {
     "name": "stdout",
     "output_type": "stream",
     "text": [
      "Answer:\n",
      "This cost was not budgetted in the initial Business Case.\n",
      "Resource Unavailability - Same resources utilized for PCoD Shared, Personal, Remote Apps which are to run in parallel would enconter delays and probable quality constraints.\n",
      "Double upgrade effort in scenarios where SQL upgrade is performed without performing OS upgrade.\n",
      ".\n"
     ]
    }
   ],
   "source": [
    "# Load the question-answering model\n",
    "nlp = pipeline(\"question-answering\")\n",
    "\n",
    "# Define the context (block of text)\n",
    "context = \"\"\"\n",
    "Delay in obtaining the right information from application team. Multiple follow ups are required to receive responses.\n",
    "Some of the applications may need to run a security review before migrating to PCoD which will cause delays.\n",
    "\n",
    "\n",
    "Involving App Owners for RemoteApps Migration might have an impact on the project budget if they start quoting time to the Project Charge Code. This cost was not budgetted in the initial Business Case.\n",
    "Resource Unavailability - Same resources utilized for PCoD Shared, Personal, Remote Apps which are to run in parallel would enconter delays and probable quality constraints.\n",
    "Double upgrade effort in scenarios where SQL upgrade is performed without performing OS upgrade.\n",
    "\"\"\"\n",
    "\n",
    "# Ask a question\n",
    "question = \"What are some problems with Remote Desktop?\"\n",
    "\n",
    "# Get the answer\n",
    "answer = nlp(question=question, context=context, min_answer_len = 50, max_answer_len=100)\n",
    "\n",
    "# Extract a few sentences around the answer\n",
    "context_sentences = context.split('. ') \n",
    "answer_sentence = \"\"\n",
    "for sentence in context_sentences:\n",
    "    if answer[\"answer\"] in sentence:\n",
    "        answer_sentence = sentence + \".\"\n",
    "\n",
    "# Print the answer and surrounding context\n",
    "print(\"Answer:\")\n",
    "print(answer_sentence)\n"
   ]
  },
  {
   "cell_type": "code",
   "execution_count": null,
   "id": "f8a5bba8",
   "metadata": {},
   "outputs": [],
   "source": [
    "import docx2txt\n",
    "from transformers import pipeline\n",
    "\n",
    "# Load the summarization model\n",
    "nlp = pipeline(\"summarization\")\n",
    "\n",
    "# List of Word documents to process\n",
    "document_files = [\"document1.docx\", \"document2.docx\", \"document3.docx\"]\n",
    "\n",
    "# Process each document\n",
    "for document_file in document_files:\n",
    "    # Load the Word document\n",
    "    text = docx2txt.process(document_file)\n",
    "\n",
    "    # Generate the summary\n",
    "    summary = nlp(text)\n",
    "\n",
    "    # Print the summary\n",
    "    print(f\"Summary of {document_file}:\")\n",
    "    print(summary[0]['summary_text'])\n",
    "    print(\"--------------\")"
   ]
  }
 ],
 "metadata": {
  "kernelspec": {
   "display_name": "Python 3 (ipykernel)",
   "language": "python",
   "name": "python3"
  },
  "language_info": {
   "codemirror_mode": {
    "name": "ipython",
    "version": 3
   },
   "file_extension": ".py",
   "mimetype": "text/x-python",
   "name": "python",
   "nbconvert_exporter": "python",
   "pygments_lexer": "ipython3",
   "version": "3.10.9"
  }
 },
 "nbformat": 4,
 "nbformat_minor": 5
}
